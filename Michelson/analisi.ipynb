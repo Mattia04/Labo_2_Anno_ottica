{
 "cells": [
  {
   "cell_type": "markdown",
   "metadata": {},
   "source": [
    "# Analisi dati per l'esperienza di Michelson\n",
    "\n",
    "in realtà l'analisi dati si potrebbe fare anche in excel ma è brutto come la francia quindi no."
   ]
  }
 ],
 "metadata": {
  "language_info": {
   "name": "python"
  }
 },
 "nbformat": 4,
 "nbformat_minor": 2
}
