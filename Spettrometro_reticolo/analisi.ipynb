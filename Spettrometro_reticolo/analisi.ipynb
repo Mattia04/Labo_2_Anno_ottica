{
 "cells": [
  {
   "cell_type": "markdown",
   "metadata": {},
   "source": [
    "# AAAAAAAAAAAAAAAAAA"
   ]
  },
  {
   "cell_type": "markdown",
   "metadata": {},
   "source": [
    "### Import librerie"
   ]
  },
  {
   "cell_type": "code",
   "execution_count": 22,
   "metadata": {},
   "outputs": [],
   "source": [
    "import numpy as np\n",
    "import matplotlib.pyplot as plt\n",
    "import pandas as pd\n",
    "\n",
    "import scienceplots\n",
    "from colorama import Fore, Style\n",
    "\n",
    "plt.style.use([\"science\", \"ieee\"])"
   ]
  },
  {
   "cell_type": "markdown",
   "metadata": {},
   "source": [
    "### Import data"
   ]
  },
  {
   "cell_type": "code",
   "execution_count": 23,
   "metadata": {},
   "outputs": [],
   "source": [
    "data_passo = pd.read_excel(\"Dati_Grezzi.xlsx\", sheet_name=\"Export_passo\", header=None)\n",
    "data_passo = data_passo[(data_passo.T != 0).any()].T.to_numpy()\n",
    "\n",
    "data_lambdas = pd.read_excel(\n",
    "    \"Dati_Grezzi.xlsx\", sheet_name=\"Export_lambdas\", header=None\n",
    ")\n",
    "data_lambdas = data_lambdas[(data_lambdas.T != 0).any()].T.to_numpy()"
   ]
  },
  {
   "cell_type": "markdown",
   "metadata": {},
   "source": [
    "## Calcolo della densità di fenditure"
   ]
  },
  {
   "cell_type": "code",
   "execution_count": 24,
   "metadata": {},
   "outputs": [
    {
     "name": "stdout",
     "output_type": "stream",
     "text": [
      "[1.73805705 1.73718438 1.75201968]\n"
     ]
    }
   ],
   "source": [
    "ordine, lambdas, theta_grad, theta_prim = data_passo[:]\n",
    "\n",
    "theta_rad = (theta_grad + theta_prim / 60) * np.pi / 180"
   ]
  }
 ],
 "metadata": {
  "kernelspec": {
   "display_name": ".venv",
   "language": "python",
   "name": "python3"
  },
  "language_info": {
   "codemirror_mode": {
    "name": "ipython",
    "version": 3
   },
   "file_extension": ".py",
   "mimetype": "text/x-python",
   "name": "python",
   "nbconvert_exporter": "python",
   "pygments_lexer": "ipython3",
   "version": "3.13.0"
  }
 },
 "nbformat": 4,
 "nbformat_minor": 2
}
